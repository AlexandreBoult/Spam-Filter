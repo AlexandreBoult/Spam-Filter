{
 "cells": [
  {
   "cell_type": "markdown",
   "id": "4b6998c9",
   "metadata": {},
   "source": [
    "# Projet Spam/Ham "
   ]
  },
  {
   "cell_type": "markdown",
   "id": "8a692e40",
   "metadata": {},
   "source": [
    "## Importation des librairies "
   ]
  },
  {
   "cell_type": "code",
   "execution_count": 87,
   "id": "c39fbfba",
   "metadata": {},
   "outputs": [],
   "source": [
    "from sklearn.compose import ColumnTransformer\n",
    "from sklearn.pipeline import FunctionTransformer, Pipeline\n",
    "\n",
    "from sklearn import svm\n",
    "from sklearn.preprocessing import MinMaxScaler\n",
    "from sklearn.feature_extraction.text import TfidfVectorizer\n",
    "from sklearn.model_selection import GridSearchCV, train_test_split\n",
    "from sklearn.metrics import classification_report, confusion_matrix, ConfusionMatrixDisplay, accuracy_score, recall_score, f1_score\n",
    "import pandas as pd\n",
    "import matplotlib.pyplot as plt\n",
    "from sklearn.decomposition import TruncatedSVD\n",
    "import pandas as pd\n",
    "import string\n",
    "import numpy as np\n",
    "from sklearn.model_selection import GridSearchCV"
   ]
  },
  {
   "cell_type": "code",
   "execution_count": 88,
   "id": "7d565f0d",
   "metadata": {},
   "outputs": [],
   "source": [
    "df = pd.read_csv(\"SMSSpamCollection\", header=None, sep='\\t', names=['cat', 'msg'])"
   ]
  },
  {
   "cell_type": "markdown",
   "id": "6b955b28",
   "metadata": {},
   "source": [
    "## Preproccessing "
   ]
  },
  {
   "cell_type": "markdown",
   "id": "75a2c414",
   "metadata": {},
   "source": [
    "### Functions utilities "
   ]
  },
  {
   "cell_type": "raw",
   "id": "5480463d",
   "metadata": {},
   "source": [
    "En analysant le DataFrame, il était impératif de déterminer des caractéristiques permettant de distinguer les messages spam des messages non spam (Hams).\n",
    "\n",
    "Nous avons tiré les conclusions suivantes : \n",
    "\n",
    "La longueur des messages s'est révélée significative, les spams ayant tendance à être soit plus courts, soit plus longs.\n",
    "\n",
    "Le nombre de caractères numériques s'est avéré pertinent, car les spams contiennent souvent des prix ou des chiffres.\n",
    "\n",
    "L'évaluation du ratio de ponctuation par rapport au nombre total de caractères s'est avérée cruciale. Il est fort probable que les spams utilisent fréquemment des symboles de ponctuation multiples tels que \"!!!\".\n",
    "\n",
    "De même, l'examen du ratio de caractères en majuscules a apporté des informations utiles.\n",
    "\n",
    "Nous avons identifié un problème de surajustement (overfitting) dans notre modèle.\n",
    "\n",
    "Pour résoudre cette problématique, nous avons pris la décision de remplacer la caractéristique \"nombre de caractères numériques\" par un ratio numérique/texte. Dans le même temps, nous avons retiré la caractéristique relative à la longueur du message. Cette démarche a permis de corriger le surajustement, même si cela a entraîné une légère diminution de la précision du modèle.\n",
    " "
   ]
  },
  {
   "cell_type": "code",
   "execution_count": 89,
   "id": "0a1cb8b6",
   "metadata": {},
   "outputs": [],
   "source": [
    "def punctuation_ratio(text_series):\n",
    "    punctuations = string.punctuation\n",
    "    return text_series.apply(lambda text: sum(1 for char in text if char in punctuations) / len(text) if len(text) > 0 else 0)\n",
    "\n",
    "def uppercase_ratio(text_series):\n",
    "    return text_series.apply(lambda text: sum(1 for c in text if c.isupper()) / len(text) if len(text) > 0 else 0)\n",
    "\n",
    "def digits_ratio(text_series):\n",
    "    return text_series.apply(lambda text: sum(char.isdigit() for char in text) / len(text) if len(text) > 0 else 0)\n",
    "\n",
    "#def len_message(text_series):\n",
    "    #return text_series.apply(len)"
   ]
  },
  {
   "cell_type": "raw",
   "id": "f9e8de4e",
   "metadata": {},
   "source": [
    "Nous avons élaboré une fonction dédiée à la création des colonnes contenant des caractéristiques léxicométriques. L'utilité de telles information est discutable au vu de la nature léxicométrique du modèle, cependant, si l'on s'en tient à des ratio les performances du modèle dans des cas généraux n'est pas dégradée."
   ]
  },
  {
   "cell_type": "code",
   "execution_count": 90,
   "id": "210d4698",
   "metadata": {},
   "outputs": [],
   "source": [
    "def create_column_df(X):\n",
    "\n",
    "    df=pd.DataFrame(data=X,columns=[\"msg\"])\n",
    "    df['punctuation_ratio'] = punctuation_ratio(df['msg'])\n",
    "    df['uppercase_ratio'] = uppercase_ratio(df['msg'])\n",
    "    df['digit_ratio'] =  digit_ratio(df['msg'])\n",
    "    #df['msg_length'] = len_message(df['msg'])\n",
    "    return df"
   ]
  },
  {
   "cell_type": "markdown",
   "id": "9169950a",
   "metadata": {},
   "source": [
    "### FunctionTransformer"
   ]
  },
  {
   "cell_type": "raw",
   "id": "beef0d4c",
   "metadata": {},
   "source": [
    "Nous avons employé la méthode FunctionTransformer pour effectuer une transformation sur notre ensemble de données, plus précisément, notre objectif était d'ajouter des colonnes significatives à notre jeu de données."
   ]
  },
  {
   "cell_type": "code",
   "execution_count": 91,
   "id": "00600ee7",
   "metadata": {},
   "outputs": [],
   "source": [
    "ajout_column_preproccessing = FunctionTransformer(create_column_df, validate=False)"
   ]
  },
  {
   "cell_type": "markdown",
   "id": "be7e9724",
   "metadata": {},
   "source": [
    "### vectorizer"
   ]
  },
  {
   "cell_type": "raw",
   "id": "72a50d7e",
   "metadata": {},
   "source": [
    "Notre choix s'est porté sur la lexicométrie, plus precicément sur le calcul de la fréquence des mots. elle constitue l'une des caractéristiques fondamentales de notre modèle.\"\n",
    "\n",
    "Le TfidfVectorizer est utilisé pour extraire des informations essentielles à partir de données textuelles. Il attribue des poids aux mots en fonction de leur pertinence. Il convertit les textes en vecteurs numériques adaptés à l'analyse de données et à la recherche d'informations. \n",
    "\n",
    "Seule la colonne 'msg' est vectorisée. \n"
   ]
  },
  {
   "cell_type": "code",
   "execution_count": 93,
   "id": "2bf59424",
   "metadata": {},
   "outputs": [],
   "source": [
    "text_vectorizer = TfidfVectorizer(min_df=3, max_df=0.9)\n",
    "\n",
    "vectorizer = ColumnTransformer(\n",
    "    transformers=[\n",
    "        ('text', text_vectorizer, 'msg'),\n",
    "    ]\n",
    ")"
   ]
  },
  {
   "cell_type": "markdown",
   "id": "01764e7c",
   "metadata": {},
   "source": [
    "### Pipeline Preproccessing"
   ]
  },
  {
   "cell_type": "raw",
   "id": "150757c7",
   "metadata": {},
   "source": [
    "Le pipeline preprocessor est une séquence d'étapes de prétraitement des données qui comprend les éléments suivants :\n",
    "\n",
    "ajout : Cette étape utilise la fonction ajout_column_preproccessing pour ajouter des colonnes de caractéristiques aux données.\n",
    "\n",
    "vectorizer : Cette étape utilise le vecteur vectorizer pour transformer les données textuelles en représentations numériques, ce qui est essentiel pour l'analyse.\n",
    "\n",
    "dim_reduction : Enfin, cette étape réduit la dimension des données en utilisant la technique TruncatedSVD avec 150 composants principaux, ce qui améliore l'efficacité de la modélisation tout en préservant l'information essentielle.\""
   ]
  },
  {
   "cell_type": "code",
   "execution_count": 94,
   "id": "1e755848",
   "metadata": {},
   "outputs": [],
   "source": [
    "preprocessor=Pipeline(steps=[\n",
    "    ('ajout', ajout_column_preproccessing),\n",
    "    ('vectorizer', vectorizer),\n",
    "    ('dim_reduction', TruncatedSVD(n_components=150, random_state=42))\n",
    "    \n",
    "\n",
    "])"
   ]
  },
  {
   "cell_type": "markdown",
   "id": "eb8ddf02",
   "metadata": {},
   "source": [
    "## model"
   ]
  },
  {
   "cell_type": "markdown",
   "id": "c06c333d",
   "metadata": {},
   "source": [
    "### Pipeline Model"
   ]
  },
  {
   "cell_type": "raw",
   "id": "1a048435",
   "metadata": {},
   "source": [
    "Le pipeline complet, nommé model_pipeline, est conçu pour le traitement et la classification de données. Il est composé des étapes suivantes :\n",
    "\n",
    "preprocessor : Cette première étape prépare les données en ajoutant des caractéristiques, en vectorisant le texte et en réduisant la dimension des données. Cela garantit que les données sont prêtes pour l'analyse.\n",
    "\n",
    "classifier : La deuxième étape utilise un classificateur SVM (Support Vector Machine) pour effectuer la classification des données prétraitées. "
   ]
  },
  {
   "cell_type": "markdown",
   "id": "e1b5fc2d",
   "metadata": {},
   "source": [
    "### Classificateur SVM "
   ]
  },
  {
   "cell_type": "raw",
   "id": "ff5dc224",
   "metadata": {},
   "source": [
    "    Le modèle SVM (Support Vector Machine) est un algorithme d'apprentissage automatique qui permet de classer des données en trouvant la meilleure séparation entre différentes classes.\n",
    "\n",
    "    Le modèle SVM est capable de gérer à la fois des données linéaires et non linéaires grâce à sa capacité à trouver des hyperplans de décision adaptés. \n",
    "\n",
    "    Le SVM est connu pour sa capacité à généraliser à partir d'un petit ensemble de données d'entraînement, il évite souvent le surajustement (overfitting) grâce à la marge maximale entre les classes.\n",
    "\n",
    "    Le modèle SVM fonctionne bien avec des ensembles de données de grande dimension, il est de plus efficace en termes de calcul. "
   ]
  },
  {
   "cell_type": "code",
   "execution_count": 96,
   "id": "d0d77298",
   "metadata": {},
   "outputs": [],
   "source": [
    "# Pipeline complète\n",
    "model_pipeline = Pipeline(steps=[\n",
    "    ('preprocessor', preprocessor), \n",
    "    ('classifier', svm.SVC())\n",
    "])\n",
    "\n",
    "\n",
    "X = df['msg']\n",
    "y = df['cat'].apply(lambda x: 1 if x == 'spam' else 0)\n",
    "\n",
    "\n",
    "X_train, X_test, y_train, y_test = train_test_split(X, y, test_size=0.3, random_state=42)"
   ]
  },
  {
   "cell_type": "markdown",
   "id": "f9299072",
   "metadata": {},
   "source": [
    "## Grid_Search"
   ]
  },
  {
   "cell_type": "raw",
   "id": "9d9beace",
   "metadata": {},
   "source": [
    "La recherche de grille (GridSearch) est une technique d'optimisation utilisée en apprentissage \n",
    "automatique pour rechercher les meilleurs hyperparamètres d'un modèle. \n",
    "\n",
    "Afin de limiter les calculs, nous avons opter pour les paramétres suivants  :\n",
    "\n",
    "'classifier__C' : Ce paramètre contrôle la pénalisation des erreurs dans le modèle SVM. Une valeur plus élevée de C signifie une pénalisation plus forte des erreurs d'entraînement, ce qui peut entraîner une meilleure adaptation aux données, mais aussi un risque de surajustement.\n",
    "\n",
    "'classifier__kernel' : Ce paramètre spécifie le noyau à utiliser dans le modèle SVM. \n",
    "\n",
    "'classifier__gamma' : Le paramètre gamma contrôle la flexibilité de la frontière de décision. \n",
    "\n",
    "'classifier__class_weight' : Ce paramètre permet de spécifier un poids différent pour chaque classe dans le modèle. L'option 'balanced' attribue automatiquement des poids inversément proportionnels à la fréquence des classes, ce qui est utile en cas de données déséquilibrées.\n",
    "\n",
    "'classifier__break_ties' : Ce paramètre booléen indique si la fonction de prédiction doit gérer les cas où plusieurs classes ont la même confiance en prédisant la première classe rencontrée (True) ou en cassant les égalités en fonction de la confiance des classes (False)."
   ]
  },
  {
   "cell_type": "code",
   "execution_count": 97,
   "id": "1bd8c9df",
   "metadata": {},
   "outputs": [],
   "source": [
    "param_grid = {\n",
    "    'classifier__C': [0.1, 1, 10, 15, 20, 25],\n",
    "    'classifier__kernel': ['rbf'],\n",
    "    'classifier__gamma': ['scale', 'auto'],\n",
    "    'classifier__class_weight': ['balanced'],  \n",
    "    'classifier__break_ties' :[True, False]\n",
    "}"
   ]
  },
  {
   "cell_type": "raw",
   "id": "8064d47d",
   "metadata": {},
   "source": [
    "Le paramètre \"scoring\" est utilisé pour spécifier la métrique de performance à utiliser lors de l'évaluation des modèles générés par la recherche de grille (GridSearch). Il permet de déterminer comment évaluer la qualité des modèles en fonction des hyperparamètres testés.\n",
    "\n",
    "Nous avons spécifié l'utilisation du score 'f1'pour l'évaluation des hyperparamètres. Le score f1 est une métrique couramment utilisée pour évaluer la précision et le rappel d'un modèle de classification. Il est particulièrement utile lorsque les données sont déséquilibrées car il prend en compte à la fois les vrais positifs, les faux positifs et les faux négatifs."
   ]
  },
  {
   "cell_type": "code",
   "execution_count": 99,
   "id": "957bbfba",
   "metadata": {},
   "outputs": [
    {
     "name": "stdout",
     "output_type": "stream",
     "text": [
      "Fitting 5 folds for each of 24 candidates, totalling 120 fits\n"
     ]
    },
    {
     "data": {
      "text/html": [
       "<style>#sk-container-id-2 {color: black;}#sk-container-id-2 pre{padding: 0;}#sk-container-id-2 div.sk-toggleable {background-color: white;}#sk-container-id-2 label.sk-toggleable__label {cursor: pointer;display: block;width: 100%;margin-bottom: 0;padding: 0.3em;box-sizing: border-box;text-align: center;}#sk-container-id-2 label.sk-toggleable__label-arrow:before {content: \"▸\";float: left;margin-right: 0.25em;color: #696969;}#sk-container-id-2 label.sk-toggleable__label-arrow:hover:before {color: black;}#sk-container-id-2 div.sk-estimator:hover label.sk-toggleable__label-arrow:before {color: black;}#sk-container-id-2 div.sk-toggleable__content {max-height: 0;max-width: 0;overflow: hidden;text-align: left;background-color: #f0f8ff;}#sk-container-id-2 div.sk-toggleable__content pre {margin: 0.2em;color: black;border-radius: 0.25em;background-color: #f0f8ff;}#sk-container-id-2 input.sk-toggleable__control:checked~div.sk-toggleable__content {max-height: 200px;max-width: 100%;overflow: auto;}#sk-container-id-2 input.sk-toggleable__control:checked~label.sk-toggleable__label-arrow:before {content: \"▾\";}#sk-container-id-2 div.sk-estimator input.sk-toggleable__control:checked~label.sk-toggleable__label {background-color: #d4ebff;}#sk-container-id-2 div.sk-label input.sk-toggleable__control:checked~label.sk-toggleable__label {background-color: #d4ebff;}#sk-container-id-2 input.sk-hidden--visually {border: 0;clip: rect(1px 1px 1px 1px);clip: rect(1px, 1px, 1px, 1px);height: 1px;margin: -1px;overflow: hidden;padding: 0;position: absolute;width: 1px;}#sk-container-id-2 div.sk-estimator {font-family: monospace;background-color: #f0f8ff;border: 1px dotted black;border-radius: 0.25em;box-sizing: border-box;margin-bottom: 0.5em;}#sk-container-id-2 div.sk-estimator:hover {background-color: #d4ebff;}#sk-container-id-2 div.sk-parallel-item::after {content: \"\";width: 100%;border-bottom: 1px solid gray;flex-grow: 1;}#sk-container-id-2 div.sk-label:hover label.sk-toggleable__label {background-color: #d4ebff;}#sk-container-id-2 div.sk-serial::before {content: \"\";position: absolute;border-left: 1px solid gray;box-sizing: border-box;top: 0;bottom: 0;left: 50%;z-index: 0;}#sk-container-id-2 div.sk-serial {display: flex;flex-direction: column;align-items: center;background-color: white;padding-right: 0.2em;padding-left: 0.2em;position: relative;}#sk-container-id-2 div.sk-item {position: relative;z-index: 1;}#sk-container-id-2 div.sk-parallel {display: flex;align-items: stretch;justify-content: center;background-color: white;position: relative;}#sk-container-id-2 div.sk-item::before, #sk-container-id-2 div.sk-parallel-item::before {content: \"\";position: absolute;border-left: 1px solid gray;box-sizing: border-box;top: 0;bottom: 0;left: 50%;z-index: -1;}#sk-container-id-2 div.sk-parallel-item {display: flex;flex-direction: column;z-index: 1;position: relative;background-color: white;}#sk-container-id-2 div.sk-parallel-item:first-child::after {align-self: flex-end;width: 50%;}#sk-container-id-2 div.sk-parallel-item:last-child::after {align-self: flex-start;width: 50%;}#sk-container-id-2 div.sk-parallel-item:only-child::after {width: 0;}#sk-container-id-2 div.sk-dashed-wrapped {border: 1px dashed gray;margin: 0 0.4em 0.5em 0.4em;box-sizing: border-box;padding-bottom: 0.4em;background-color: white;}#sk-container-id-2 div.sk-label label {font-family: monospace;font-weight: bold;display: inline-block;line-height: 1.2em;}#sk-container-id-2 div.sk-label-container {text-align: center;}#sk-container-id-2 div.sk-container {/* jupyter's `normalize.less` sets `[hidden] { display: none; }` but bootstrap.min.css set `[hidden] { display: none !important; }` so we also need the `!important` here to be able to override the default hidden behavior on the sphinx rendered scikit-learn.org. See: https://github.com/scikit-learn/scikit-learn/issues/21755 */display: inline-block !important;position: relative;}#sk-container-id-2 div.sk-text-repr-fallback {display: none;}</style><div id=\"sk-container-id-2\" class=\"sk-top-container\"><div class=\"sk-text-repr-fallback\"><pre>GridSearchCV(cv=5,\n",
       "             estimator=Pipeline(steps=[(&#x27;preprocessor&#x27;,\n",
       "                                        Pipeline(steps=[(&#x27;ajout&#x27;,\n",
       "                                                         FunctionTransformer(func=&lt;function create_column_df at 0x7f06e2cc37e0&gt;)),\n",
       "                                                        (&#x27;vectorizer&#x27;,\n",
       "                                                         ColumnTransformer(transformers=[(&#x27;text&#x27;,\n",
       "                                                                                          TfidfVectorizer(max_df=0.9,\n",
       "                                                                                                          min_df=3),\n",
       "                                                                                          &#x27;msg&#x27;)])),\n",
       "                                                        (&#x27;dim_reduction&#x27;,\n",
       "                                                         TruncatedSVD(n_components=150,\n",
       "                                                                      random_state=42))])),\n",
       "                                       (&#x27;classifier&#x27;, SVC())]),\n",
       "             n_jobs=-1,\n",
       "             param_grid={&#x27;classifier__C&#x27;: [0.1, 1, 10, 15, 20, 25],\n",
       "                         &#x27;classifier__break_ties&#x27;: [True, False],\n",
       "                         &#x27;classifier__class_weight&#x27;: [&#x27;balanced&#x27;],\n",
       "                         &#x27;classifier__gamma&#x27;: [&#x27;scale&#x27;, &#x27;auto&#x27;],\n",
       "                         &#x27;classifier__kernel&#x27;: [&#x27;rbf&#x27;]},\n",
       "             scoring=&#x27;f1&#x27;, verbose=1)</pre><b>In a Jupyter environment, please rerun this cell to show the HTML representation or trust the notebook. <br />On GitHub, the HTML representation is unable to render, please try loading this page with nbviewer.org.</b></div><div class=\"sk-container\" hidden><div class=\"sk-item sk-dashed-wrapped\"><div class=\"sk-label-container\"><div class=\"sk-label sk-toggleable\"><input class=\"sk-toggleable__control sk-hidden--visually\" id=\"sk-estimator-id-10\" type=\"checkbox\" ><label for=\"sk-estimator-id-10\" class=\"sk-toggleable__label sk-toggleable__label-arrow\">GridSearchCV</label><div class=\"sk-toggleable__content\"><pre>GridSearchCV(cv=5,\n",
       "             estimator=Pipeline(steps=[(&#x27;preprocessor&#x27;,\n",
       "                                        Pipeline(steps=[(&#x27;ajout&#x27;,\n",
       "                                                         FunctionTransformer(func=&lt;function create_column_df at 0x7f06e2cc37e0&gt;)),\n",
       "                                                        (&#x27;vectorizer&#x27;,\n",
       "                                                         ColumnTransformer(transformers=[(&#x27;text&#x27;,\n",
       "                                                                                          TfidfVectorizer(max_df=0.9,\n",
       "                                                                                                          min_df=3),\n",
       "                                                                                          &#x27;msg&#x27;)])),\n",
       "                                                        (&#x27;dim_reduction&#x27;,\n",
       "                                                         TruncatedSVD(n_components=150,\n",
       "                                                                      random_state=42))])),\n",
       "                                       (&#x27;classifier&#x27;, SVC())]),\n",
       "             n_jobs=-1,\n",
       "             param_grid={&#x27;classifier__C&#x27;: [0.1, 1, 10, 15, 20, 25],\n",
       "                         &#x27;classifier__break_ties&#x27;: [True, False],\n",
       "                         &#x27;classifier__class_weight&#x27;: [&#x27;balanced&#x27;],\n",
       "                         &#x27;classifier__gamma&#x27;: [&#x27;scale&#x27;, &#x27;auto&#x27;],\n",
       "                         &#x27;classifier__kernel&#x27;: [&#x27;rbf&#x27;]},\n",
       "             scoring=&#x27;f1&#x27;, verbose=1)</pre></div></div></div><div class=\"sk-parallel\"><div class=\"sk-parallel-item\"><div class=\"sk-item\"><div class=\"sk-label-container\"><div class=\"sk-label sk-toggleable\"><input class=\"sk-toggleable__control sk-hidden--visually\" id=\"sk-estimator-id-11\" type=\"checkbox\" ><label for=\"sk-estimator-id-11\" class=\"sk-toggleable__label sk-toggleable__label-arrow\">estimator: Pipeline</label><div class=\"sk-toggleable__content\"><pre>Pipeline(steps=[(&#x27;preprocessor&#x27;,\n",
       "                 Pipeline(steps=[(&#x27;ajout&#x27;,\n",
       "                                  FunctionTransformer(func=&lt;function create_column_df at 0x7f06e2cc37e0&gt;)),\n",
       "                                 (&#x27;vectorizer&#x27;,\n",
       "                                  ColumnTransformer(transformers=[(&#x27;text&#x27;,\n",
       "                                                                   TfidfVectorizer(max_df=0.9,\n",
       "                                                                                   min_df=3),\n",
       "                                                                   &#x27;msg&#x27;)])),\n",
       "                                 (&#x27;dim_reduction&#x27;,\n",
       "                                  TruncatedSVD(n_components=150,\n",
       "                                               random_state=42))])),\n",
       "                (&#x27;classifier&#x27;, SVC())])</pre></div></div></div><div class=\"sk-serial\"><div class=\"sk-item\"><div class=\"sk-serial\"><div class=\"sk-item\"><div class=\"sk-label-container\"><div class=\"sk-label sk-toggleable\"><input class=\"sk-toggleable__control sk-hidden--visually\" id=\"sk-estimator-id-12\" type=\"checkbox\" ><label for=\"sk-estimator-id-12\" class=\"sk-toggleable__label sk-toggleable__label-arrow\">preprocessor: Pipeline</label><div class=\"sk-toggleable__content\"><pre>Pipeline(steps=[(&#x27;ajout&#x27;,\n",
       "                 FunctionTransformer(func=&lt;function create_column_df at 0x7f06e2cc37e0&gt;)),\n",
       "                (&#x27;vectorizer&#x27;,\n",
       "                 ColumnTransformer(transformers=[(&#x27;text&#x27;,\n",
       "                                                  TfidfVectorizer(max_df=0.9,\n",
       "                                                                  min_df=3),\n",
       "                                                  &#x27;msg&#x27;)])),\n",
       "                (&#x27;dim_reduction&#x27;,\n",
       "                 TruncatedSVD(n_components=150, random_state=42))])</pre></div></div></div><div class=\"sk-serial\"><div class=\"sk-item\"><div class=\"sk-estimator sk-toggleable\"><input class=\"sk-toggleable__control sk-hidden--visually\" id=\"sk-estimator-id-13\" type=\"checkbox\" ><label for=\"sk-estimator-id-13\" class=\"sk-toggleable__label sk-toggleable__label-arrow\">FunctionTransformer</label><div class=\"sk-toggleable__content\"><pre>FunctionTransformer(func=&lt;function create_column_df at 0x7f06e2cc37e0&gt;)</pre></div></div></div><div class=\"sk-item sk-dashed-wrapped\"><div class=\"sk-label-container\"><div class=\"sk-label sk-toggleable\"><input class=\"sk-toggleable__control sk-hidden--visually\" id=\"sk-estimator-id-14\" type=\"checkbox\" ><label for=\"sk-estimator-id-14\" class=\"sk-toggleable__label sk-toggleable__label-arrow\">vectorizer: ColumnTransformer</label><div class=\"sk-toggleable__content\"><pre>ColumnTransformer(transformers=[(&#x27;text&#x27;, TfidfVectorizer(max_df=0.9, min_df=3),\n",
       "                                 &#x27;msg&#x27;)])</pre></div></div></div><div class=\"sk-parallel\"><div class=\"sk-parallel-item\"><div class=\"sk-item\"><div class=\"sk-label-container\"><div class=\"sk-label sk-toggleable\"><input class=\"sk-toggleable__control sk-hidden--visually\" id=\"sk-estimator-id-15\" type=\"checkbox\" ><label for=\"sk-estimator-id-15\" class=\"sk-toggleable__label sk-toggleable__label-arrow\">text</label><div class=\"sk-toggleable__content\"><pre>msg</pre></div></div></div><div class=\"sk-serial\"><div class=\"sk-item\"><div class=\"sk-estimator sk-toggleable\"><input class=\"sk-toggleable__control sk-hidden--visually\" id=\"sk-estimator-id-16\" type=\"checkbox\" ><label for=\"sk-estimator-id-16\" class=\"sk-toggleable__label sk-toggleable__label-arrow\">TfidfVectorizer</label><div class=\"sk-toggleable__content\"><pre>TfidfVectorizer(max_df=0.9, min_df=3)</pre></div></div></div></div></div></div></div></div><div class=\"sk-item\"><div class=\"sk-estimator sk-toggleable\"><input class=\"sk-toggleable__control sk-hidden--visually\" id=\"sk-estimator-id-17\" type=\"checkbox\" ><label for=\"sk-estimator-id-17\" class=\"sk-toggleable__label sk-toggleable__label-arrow\">TruncatedSVD</label><div class=\"sk-toggleable__content\"><pre>TruncatedSVD(n_components=150, random_state=42)</pre></div></div></div></div></div><div class=\"sk-item\"><div class=\"sk-estimator sk-toggleable\"><input class=\"sk-toggleable__control sk-hidden--visually\" id=\"sk-estimator-id-18\" type=\"checkbox\" ><label for=\"sk-estimator-id-18\" class=\"sk-toggleable__label sk-toggleable__label-arrow\">SVC</label><div class=\"sk-toggleable__content\"><pre>SVC()</pre></div></div></div></div></div></div></div></div></div></div></div></div>"
      ],
      "text/plain": [
       "GridSearchCV(cv=5,\n",
       "             estimator=Pipeline(steps=[('preprocessor',\n",
       "                                        Pipeline(steps=[('ajout',\n",
       "                                                         FunctionTransformer(func=<function create_column_df at 0x7f06e2cc37e0>)),\n",
       "                                                        ('vectorizer',\n",
       "                                                         ColumnTransformer(transformers=[('text',\n",
       "                                                                                          TfidfVectorizer(max_df=0.9,\n",
       "                                                                                                          min_df=3),\n",
       "                                                                                          'msg')])),\n",
       "                                                        ('dim_reduction',\n",
       "                                                         TruncatedSVD(n_components=150,\n",
       "                                                                      random_state=42))])),\n",
       "                                       ('classifier', SVC())]),\n",
       "             n_jobs=-1,\n",
       "             param_grid={'classifier__C': [0.1, 1, 10, 15, 20, 25],\n",
       "                         'classifier__break_ties': [True, False],\n",
       "                         'classifier__class_weight': ['balanced'],\n",
       "                         'classifier__gamma': ['scale', 'auto'],\n",
       "                         'classifier__kernel': ['rbf']},\n",
       "             scoring='f1', verbose=1)"
      ]
     },
     "execution_count": 99,
     "metadata": {},
     "output_type": "execute_result"
    }
   ],
   "source": [
    "grid_search = GridSearchCV(model_pipeline, param_grid, scoring='f1', cv = 5, n_jobs =-1, verbose = 1)\n",
    "\n",
    "#grid_search.fit(X_train, y_train)\n",
    "\n",
    "#y_pred = grid_search.predict(X_test)"
   ]
  },
  {
   "cell_type": "markdown",
   "id": "347e257b",
   "metadata": {},
   "source": [
    "### Parameter Optimization"
   ]
  },
  {
   "cell_type": "code",
   "execution_count": 101,
   "id": "6fa868b2",
   "metadata": {},
   "outputs": [
    {
     "name": "stdout",
     "output_type": "stream",
     "text": [
      "Meilleur modèle: Pipeline(steps=[('preprocessor',\n",
      "                 Pipeline(steps=[('ajout',\n",
      "                                  FunctionTransformer(func=<function create_column_df at 0x7f06e2cc37e0>)),\n",
      "                                 ('vectorizer',\n",
      "                                  ColumnTransformer(transformers=[('text',\n",
      "                                                                   TfidfVectorizer(max_df=0.9,\n",
      "                                                                                   min_df=3),\n",
      "                                                                   'msg')])),\n",
      "                                 ('dim_reduction',\n",
      "                                  TruncatedSVD(n_components=150,\n",
      "                                               random_state=42))])),\n",
      "                ('classifier',\n",
      "                 SVC(C=10, break_ties=True, class_weight='balanced'))])\n"
     ]
    }
   ],
   "source": [
    "#best_model = grid_search.best_estimator_\n",
    "#print(\"Meilleur modèle:\", best_model)\n",
    "#y_pred = best_model.predict(X_test)"
   ]
  },
  {
   "cell_type": "code",
   "execution_count": 102,
   "id": "abad21f5",
   "metadata": {},
   "outputs": [],
   "source": [
    "model_pipeline.fit(X_train, y_train)\n",
    "y_pred = model_pipeline.predict(X_test)"
   ]
  },
  {
   "cell_type": "markdown",
   "id": "f50f4655",
   "metadata": {},
   "source": [
    "## model evaluation"
   ]
  },
  {
   "cell_type": "code",
   "execution_count": 103,
   "id": "355f9a81",
   "metadata": {},
   "outputs": [
    {
     "name": "stdout",
     "output_type": "stream",
     "text": [
      "Accuracy:  0.9904306220095693\n"
     ]
    }
   ],
   "source": [
    "#accuracy\n",
    "print(\"accuracy: \", accuracy_score(y_test, y_pred))"
   ]
  },
  {
   "cell_type": "code",
   "execution_count": 104,
   "id": "114f7c4a",
   "metadata": {},
   "outputs": [
    {
     "name": "stdout",
     "output_type": "stream",
     "text": [
      "recall:  0.9553571428571429\n"
     ]
    }
   ],
   "source": [
    "# recall \n",
    "print('recall: ', recall_score(y_test, y_pred))"
   ]
  },
  {
   "cell_type": "code",
   "execution_count": 105,
   "id": "673e7de4",
   "metadata": {},
   "outputs": [
    {
     "name": "stdout",
     "output_type": "stream",
     "text": [
      "f1-score  0.963963963963964\n"
     ]
    }
   ],
   "source": [
    "# f1-score\n",
    "print('f1-score ', f1_score(y_test, y_pred))"
   ]
  },
  {
   "cell_type": "code",
   "execution_count": 106,
   "id": "f68a91f2",
   "metadata": {},
   "outputs": [
    {
     "name": "stdout",
     "output_type": "stream",
     "text": [
      "Rapport de classification :\n",
      "              precision    recall  f1-score   support\n",
      "\n",
      "           0       0.99      1.00      0.99      1448\n",
      "           1       0.97      0.96      0.96       224\n",
      "\n",
      "    accuracy                           0.99      1672\n",
      "   macro avg       0.98      0.98      0.98      1672\n",
      "weighted avg       0.99      0.99      0.99      1672\n",
      "\n"
     ]
    },
    {
     "data": {
      "image/png": "[encoded data removed]",
      "text/plain": [
       "<Figure size 640x480 with 2 Axes>"
      ]
     },
     "metadata": {},
     "output_type": "display_data"
    }
   ],
   "source": [
    "print(\"Rapport de classification :\")\n",
    "print(classification_report(y_test, y_pred))\n",
    "conf_matrix = confusion_matrix(y_test, y_pred)\n",
    "disp = ConfusionMatrixDisplay(confusion_matrix=conf_matrix)\n",
    "disp.plot()\n",
    "plt.show()"
   ]
  }
 ],
 "metadata": {
  "kernelspec": {
   "display_name": "Python 3 (ipykernel)",
   "language": "python",
   "name": "python3"
  },
  "language_info": {
   "codemirror_mode": {
    "name": "ipython",
    "version": 3
   },
   "file_extension": ".py",
   "mimetype": "text/x-python",
   "name": "python",
   "nbconvert_exporter": "python",
   "pygments_lexer": "ipython3",
   "version": "3.11.5"
  }
 },
 "nbformat": 4,
 "nbformat_minor": 5
}
